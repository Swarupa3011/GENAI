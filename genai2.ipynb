{
  "nbformat": 4,
  "nbformat_minor": 0,
  "metadata": {
    "colab": {
      "provenance": [],
      "authorship_tag": "ABX9TyMWQCP7hUeIwk14Ak4BOKrl",
      "include_colab_link": true
    },
    "kernelspec": {
      "name": "python3",
      "display_name": "Python 3"
    },
    "language_info": {
      "name": "python"
    }
  },
  "cells": [
    {
      "cell_type": "markdown",
      "metadata": {
        "id": "view-in-github",
        "colab_type": "text"
      },
      "source": [
        "<a href=\"https://colab.research.google.com/github/Swarupa3011/GENAI/blob/main/genai2.ipynb\" target=\"_parent\"><img src=\"https://colab.research.google.com/assets/colab-badge.svg\" alt=\"Open In Colab\"/></a>"
      ]
    },
    {
      "cell_type": "code",
      "execution_count": null,
      "metadata": {
        "colab": {
          "base_uri": "https://localhost:8080/"
        },
        "id": "MJ5xavvCs0R-",
        "outputId": "5242c6a0-eddc-47bb-ae55-25078fc1a79b"
      },
      "outputs": [
        {
          "output_type": "stream",
          "name": "stdout",
          "text": [
            "Collecting pytesseract\n",
            "  Downloading pytesseract-0.3.13-py3-none-any.whl.metadata (11 kB)\n",
            "Requirement already satisfied: packaging>=21.3 in /usr/local/lib/python3.11/dist-packages (from pytesseract) (25.0)\n",
            "Requirement already satisfied: Pillow>=8.0.0 in /usr/local/lib/python3.11/dist-packages (from pytesseract) (11.3.0)\n",
            "Downloading pytesseract-0.3.13-py3-none-any.whl (14 kB)\n",
            "Installing collected packages: pytesseract\n",
            "Successfully installed pytesseract-0.3.13\n"
          ]
        }
      ],
      "source": [
        "!pip install pytesseract\n"
      ]
    },
    {
      "cell_type": "code",
      "source": [
        "import pytesseract\n",
        "from PIL import Image\n",
        "from transformers import pipeline"
      ],
      "metadata": {
        "id": "zS6bMMPOtjWM"
      },
      "execution_count": null,
      "outputs": []
    },
    {
      "cell_type": "code",
      "source": [
        "input=\"/content/f8097559994a039f0c841fceb3d661e3.jpg\"\n",
        "input_image=Image.open(input)"
      ],
      "metadata": {
        "id": "ASmi-7v2uJCE"
      },
      "execution_count": null,
      "outputs": []
    },
    {
      "cell_type": "code",
      "source": [
        "text_op=pytesseract.image_to_string(input_image,lang='eng').strip()\n",
        "text_op=re.sub(r'\\s+','',text_op)"
      ],
      "metadata": {
        "id": "2edahG48vhxM"
      },
      "execution_count": null,
      "outputs": []
    },
    {
      "cell_type": "code",
      "source": [
        "extracted_text=pytesseract.image_to_string(input_image).strip()"
      ],
      "metadata": {
        "id": "qEjvrrsqx5WF"
      },
      "execution_count": null,
      "outputs": []
    },
    {
      "cell_type": "code",
      "source": [
        "import re"
      ],
      "metadata": {
        "id": "hsxyrmz7v-SQ"
      },
      "execution_count": null,
      "outputs": []
    },
    {
      "cell_type": "code",
      "source": [
        "if not extracted_text:\n",
        "  print(\"No text Found\")\n",
        "else:\n",
        "  print(f\"Extracted Text: {extracted_text}\")\n",
        "  sentiment_analyzer=pipeline(\"sentiment-analysis\")\n",
        "  sentiment_result=sentiment_analyzer(extracted_text)[0]\n",
        "  print(\"\\n SENTEMENT ANALYSIS:\")\n",
        "  print(f\"text_op:{extracted_text}\")\n",
        "  print(f\"Sentiment:{sentiment_result['label']}\")\n",
        "  print(f\"Confidence:{sentiment_result['score']}\")"
      ],
      "metadata": {
        "colab": {
          "base_uri": "https://localhost:8080/"
        },
        "id": "aoNqSWAhwVWc",
        "outputId": "6f38bd59-a20c-4f50-99c8-5644ba9b1b7e"
      },
      "execution_count": null,
      "outputs": [
        {
          "output_type": "stream",
          "name": "stderr",
          "text": [
            "No model was supplied, defaulted to distilbert/distilbert-base-uncased-finetuned-sst-2-english and revision 714eb0f (https://huggingface.co/distilbert/distilbert-base-uncased-finetuned-sst-2-english).\n",
            "Using a pipeline without specifying a model name and revision in production is not recommended.\n"
          ]
        },
        {
          "output_type": "stream",
          "name": "stdout",
          "text": [
            "Extracted Text: Life is better\n",
            "when you\n",
            "cry a little,\n",
            "\n",
            "laugh a lot, and\n",
            "are thankful\n",
            "for everything\n",
            "\n",
            "you've got.\n"
          ]
        },
        {
          "output_type": "stream",
          "name": "stderr",
          "text": [
            "Device set to use cpu\n"
          ]
        },
        {
          "output_type": "stream",
          "name": "stdout",
          "text": [
            "\n",
            " SENTEMENT ANALYSIS:\n",
            "text_op:Life is better\n",
            "when you\n",
            "cry a little,\n",
            "\n",
            "laugh a lot, and\n",
            "are thankful\n",
            "for everything\n",
            "\n",
            "you've got.\n",
            "Sentiment:POSITIVE\n",
            "Confidence:0.9996782541275024\n"
          ]
        }
      ]
    },
    {
      "cell_type": "code",
      "source": [],
      "metadata": {
        "id": "r8RfzuPNzPXt"
      },
      "execution_count": null,
      "outputs": []
    },
    {
      "cell_type": "code",
      "source": [],
      "metadata": {
        "id": "jACcN8Jg73h1"
      },
      "execution_count": null,
      "outputs": []
    }
  ]
}